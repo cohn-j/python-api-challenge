{
 "cells": [
  {
   "cell_type": "code",
   "execution_count": null,
   "metadata": {},
   "outputs": [],
   "source": [
    "# Dependencies and Setup\n",
    "import matplotlib.pyplot as plt\n",
    "import pandas as pd\n",
    "import numpy as np\n",
    "import requests\n",
    "import time\n",
    "from scipy import stats\n",
    "\n",
    "# Import API key\n",
    "from api_weather_key import weather_api_key\n",
    "\n",
    "# Incorporated citipy to determine city based on latitude and longitude\n",
    "from citipy import citipy\n",
    "\n",
    "# Output File (CSV)\n",
    "output_data_file = \"../Output_Data/cities.csv\"\n",
    "\n",
    "# Range of latitudes and longitudes\n",
    "lat_range = (-90, 90)\n",
    "lng_range = (-180, 180)\n",
    "\n"
   ]
  },
  {
   "cell_type": "markdown",
   "metadata": {},
   "source": [
    "General Cities List"
   ]
  },
  {
   "cell_type": "code",
   "execution_count": null,
   "metadata": {},
   "outputs": [],
   "source": [
    "lat_lngs = []\n",
    "cities = []\n",
    "\n",
    "# Create a set of random lat and lng combinations\n",
    "lats = np.random.uniform(lat_range[0], lat_range[1], size=1500)\n",
    "lngs = np.random.uniform(lng_range[0], lng_range[1], size=1500)\n",
    "lat_lngs = zip(lats, lngs)\n",
    "\n",
    "# Identify nearest city for each lat, lng combination\n",
    "for lat_lng in lat_lngs:\n",
    "    city = citipy.nearest_city(lat_lng[0], lat_lng[1]).city_name\n",
    "    \n",
    "    # If the city is unique, then add it to a our cities list\n",
    "    if city not in cities:\n",
    "        cities.append(city)\n",
    "\n",
    "# Print the city count to confirm sufficient count\n",
    "\n",
    "total_calls = round((len(cities)) / 50,0)\n",
    "num_record = 0\n",
    "num_set = 1\n",
    "\n",
    "print(len(cities))\n",
    "print(total_calls)"
   ]
  },
  {
   "cell_type": "markdown",
   "metadata": {},
   "source": [
    "API Calls\n",
    "\n",
    "-Perform a weather check on each city using a series of successive API calls.\n",
    "\n",
    "-Print log of each city as it's being processed reflecting the number of the city in the list and its name."
   ]
  },
  {
   "cell_type": "code",
   "execution_count": null,
   "metadata": {},
   "outputs": [],
   "source": [
    "#lists that will house the API call results to then the form the dictionary that will be the basis for the data frame:\n",
    "lat = []\n",
    "long = []\n",
    "maxtemp = []\n",
    "humidity = []\n",
    "cloudiness = []\n",
    "windspeed = []\n",
    "country = []\n",
    "date = []\n",
    "cities_data = []\n",
    "\n",
    "\n",
    "#f string creating the query url of call: city name from the cities list, along with API key and units set to metric.\n",
    "for city in cities:\n",
    "    response = requests.get(f\"http://api.openweathermap.org/data/2.5/weather?q={city}&appid={weather_api_key}&units=imperial\").json()\n",
    "#add a slight timed delay of 3 seconds to stay within the revolving 60 calls/minute on the free tier of OWM subscription:\n",
    "    time.sleep(1)\n",
    "    \n",
    "    #appending the query response to the lists created:\n",
    "    try:\n",
    "        lat.append(response['coord']['lat'])\n",
    "        long.append(response['coord']['lon'])\n",
    "        maxtemp.append(response['main']['temp_max'])\n",
    "        humidity.append(response['main']['humidity'])\n",
    "        cloudiness.append(response['clouds']['all'])\n",
    "        windspeed.append(response['wind']['speed'])\n",
    "        country.append(response['sys']['country'])\n",
    "        date.append(response['dt'])\n",
    "        cities_data.append(city)\n",
    "\n",
    "        if (num_record <= 50):\n",
    "            print(f\"Processing Record {num_record} of Set {num_set} | {city}\")\n",
    "            num_record += 1\n",
    "        \n",
    "        elif num_record == 51:\n",
    "            num_record = 0\n",
    "            num_set += 1 \n",
    "            print(f\"Processing Record {num_record} of Set {num_set} | {city}\")\n",
    "            num_record = 1\n",
    "        \n",
    "    except (KeyError, IndexError):\n",
    "        print(\"City not found. Skipping.\")    \n",
    "print(\"-------------------------\")\n",
    "print(\"Data retrieval completed.\")\n"
   ]
  },
  {
   "cell_type": "markdown",
   "metadata": {},
   "source": [
    "Building Data Frame"
   ]
  },
  {
   "cell_type": "code",
   "execution_count": null,
   "metadata": {},
   "outputs": [],
   "source": [
    "#update City Name to be = to cities.\n",
    "weather_data = {\"City Name\": cities_data,\n",
    "                \"Lat\": lat,\n",
    "               \"Long\": long,\n",
    "               \"Max Temp\": maxtemp,\n",
    "               \"Humidity\": humidity,\n",
    "               \"Cloudiness\": cloudiness,\n",
    "               \"Wind Speed\": windspeed,\n",
    "               \"Country\": country,\n",
    "               \"Date\": date}\n",
    "weather_df = pd.DataFrame(weather_data)\n",
    "weather_df.head(10000)"
   ]
  },
  {
   "cell_type": "markdown",
   "metadata": {},
   "source": [
    "Writing to .CSV and displaying summary statistics"
   ]
  },
  {
   "cell_type": "code",
   "execution_count": null,
   "metadata": {},
   "outputs": [],
   "source": [
    "weather_df.to_csv(output_data_file)\n",
    "weather_df.describe()"
   ]
  },
  {
   "cell_type": "markdown",
   "metadata": {},
   "source": [
    "Adjusting data frame to remove a city where the humidity is greater than 100%."
   ]
  },
  {
   "cell_type": "code",
   "execution_count": null,
   "metadata": {
    "scrolled": true
   },
   "outputs": [],
   "source": [
    "humidity_df = weather_df[weather_df[\"Humidity\"] > 100]\n",
    "humidity_df.head(10000)"
   ]
  },
  {
   "cell_type": "code",
   "execution_count": null,
   "metadata": {},
   "outputs": [],
   "source": [
    "weather_clean_df = weather_df[weather_df[\"Humidity\"] <= 100]\n",
    "weather_clean_df.head(10000)"
   ]
  },
  {
   "cell_type": "markdown",
   "metadata": {},
   "source": [
    "Scatter Plots"
   ]
  },
  {
   "cell_type": "markdown",
   "metadata": {},
   "source": [
    "Latitude vs Temperature:\n",
    "\n",
    "-Code is creating a scatter plot of the data frame (excluding cities where humidity is > 100%) plotting the latitude along the x-axis and max temperature on the y.\n",
    "\n",
    "-Findings indicate that temperatures are warmest between -20 and 20 Latitude - closest to the equator."
   ]
  },
  {
   "cell_type": "code",
   "execution_count": null,
   "metadata": {},
   "outputs": [],
   "source": [
    "#plot the scatter plot, label, save as .png file and display:\n",
    "weather_clean_df.plot(kind=\"scatter\", x=\"Lat\", y=\"Max Temp\",grid=True, figsize=(4,4),title=\"City Latitude vs. Max Temperature\")\n",
    "plt.xlabel(\"Latitude\")\n",
    "plt.ylabel(\"Max Temperature (F)\")\n",
    "plt.savefig(\"../Output_Data/Lat_Temp.png\")\n",
    "plt.show()\n"
   ]
  },
  {
   "cell_type": "markdown",
   "metadata": {},
   "source": [
    "Latitude vs Humdity:\n",
    "\n",
    "-Code is creating a scatter plot of the data frame (excluding cities where humidity is > 100%) plotting the latitude along the x-axis and humidity on the y.\n",
    "\n",
    "-Findings indicate humidity increases in terms of number of cities as latitude increases."
   ]
  },
  {
   "cell_type": "code",
   "execution_count": null,
   "metadata": {},
   "outputs": [],
   "source": [
    "#plot the scatter plot, label, save as .png file and display:\n",
    "weather_clean_df.plot(kind=\"scatter\", x=\"Lat\", y=\"Humidity\", grid=True, figsize=(4,4),\n",
    "              title=\"City Latitude vs. Humidity\")\n",
    "plt.xlabel(\"Latitude\")\n",
    "plt.ylabel(\"Humidity\")\n",
    "plt.savefig(\"../Output_Data/Lat_Humidity.png\")\n",
    "plt.show()"
   ]
  },
  {
   "cell_type": "markdown",
   "metadata": {},
   "source": [
    "Latitude vs Cloudiness:\n",
    "    \n",
    "-Code is creating a scatter plot of the data frame (excluding cities where humidity is > 100%) plotting the latitude along the x-axis and cloudiness on the y.\n",
    "\n",
    "-Latitude does not appear to be a determining factor of cloudiness as a roughly even number of cities appear to be either very cloudy (100) or not cloudy (0).    "
   ]
  },
  {
   "cell_type": "code",
   "execution_count": null,
   "metadata": {},
   "outputs": [],
   "source": [
    "#plot the scatter plot, label, save as .png file and display:\n",
    "weather_clean_df.plot(kind=\"scatter\", x=\"Lat\", y=\"Cloudiness\", grid=True, figsize=(4,4),\n",
    "              title=\"City Latitude vs. Cloudiness\")\n",
    "plt.xlabel(\"Latitude\")\n",
    "plt.ylabel(\"Cloudiness\")\n",
    "plt.savefig(\"../Output_Data/Lat_Cloudiness.png\")\n",
    "plt.show()"
   ]
  },
  {
   "cell_type": "markdown",
   "metadata": {},
   "source": [
    "Latitude vs. Wind Speed:\n",
    "    \n",
    "-Code is creating a scatter plot of the data frame (excluding cities where humidity is > 100%) plotting the latitude along the x-axis and wind speed on the y.\n",
    "\n",
    "-Findings indicate wind speeds tend to be lower on average."
   ]
  },
  {
   "cell_type": "code",
   "execution_count": null,
   "metadata": {},
   "outputs": [],
   "source": [
    "#plot the scatter plot, label, save as .png file and display:\n",
    "weather_clean_df.plot(kind=\"scatter\", x=\"Lat\", y=\"Wind Speed\", grid=True, figsize=(4,4),\n",
    "              title=\"City Latitude vs. Wind Speed\")\n",
    "plt.xlabel(\"Latitude\")\n",
    "plt.ylabel(\"Wind Speed\")\n",
    "plt.savefig(\"../Output_Data/Lat_Wind.png\")\n",
    "plt.show()"
   ]
  },
  {
   "cell_type": "markdown",
   "metadata": {},
   "source": [
    "Linear Regression - Northern and Southern Hemispheres"
   ]
  },
  {
   "cell_type": "code",
   "execution_count": null,
   "metadata": {},
   "outputs": [],
   "source": [
    "#create northern and southern hemisphere data frames to generate the scatter plot and regressions from. Zero is included in both\n",
    "#as it cannot really be claimed by either.\n",
    "north_df = weather_clean_df[weather_clean_df[\"Lat\"] >= 0]\n",
    "south_df = weather_clean_df[weather_clean_df[\"Lat\"] <= 0]\n",
    "\n",
    "#declaration of variables to be used in each linear regression:\n",
    "n_lat = north_df.iloc[:,1]\n",
    "n_temp = north_df.iloc[:,3]\n",
    "n_hum = north_df.iloc[:,4]\n",
    "n_cloud = north_df.iloc[:,5]\n",
    "n_wind = north_df.iloc[:,6]\n",
    "\n",
    "s_lat = south_df.iloc[:,1]\n",
    "s_temp = south_df.iloc[:,3]\n",
    "s_hum = south_df.iloc[:,4]\n",
    "s_cloud = south_df.iloc[:,5]\n",
    "s_wind = south_df.iloc[:,6]"
   ]
  },
  {
   "cell_type": "markdown",
   "metadata": {},
   "source": [
    "Northern Hemisphere - Max Temp vs. Latitude Linear Regression"
   ]
  },
  {
   "cell_type": "code",
   "execution_count": null,
   "metadata": {},
   "outputs": [],
   "source": [
    "#calculate the linear regression:\n",
    "nt_slope, nt_int, nt_r, nt_p, nt_std_err = stats.linregress(n_lat, n_temp)\n",
    "\n",
    "# Create equation of line to calculate predicted temperature\n",
    "nt_fit = nt_slope * n_lat + nt_int\n",
    "\n",
    "#plot the scatter plot and regression line:\n",
    "plt.scatter(n_lat,n_temp)\n",
    "plt.plot(n_lat,nt_fit,\"r--\")\n",
    "plt.xlabel('Lat')\n",
    "plt.ylabel('Max Temp')\n",
    "\n",
    "#reflect the equation on the graph:\n",
    "nt_line = \"y = \" + str(round(nt_slope,2)) + \"x + \" + str(round(nt_int,2))\n",
    "plt.annotate(nt_line,(6,10),fontsize=15,color=\"red\")\n",
    "\n",
    "#display the r-value:\n",
    "print(f\"The r-value is: {nt_r**2}\")\n",
    "\n",
    "#save .png and display graph:\n",
    "plt.savefig(\"../Output_Data/NorthernLat_Temp.png\")\n",
    "plt.show()\n"
   ]
  },
  {
   "cell_type": "markdown",
   "metadata": {},
   "source": [
    "Southern Hemisphere - Max Temp vs. Latitude Linear Regression"
   ]
  },
  {
   "cell_type": "code",
   "execution_count": null,
   "metadata": {},
   "outputs": [],
   "source": [
    "#calculate the linear regression:\n",
    "st_slope, st_int, st_r, st_p, st_std_err = stats.linregress(s_lat, s_temp)\n",
    "\n",
    "# Create equation of line to calculate predicted temperature\n",
    "st_fit = st_slope * s_lat + st_int\n",
    "\n",
    "#plot the scatter plot and regression line:\n",
    "plt.scatter(s_lat,s_temp)\n",
    "plt.plot(s_lat,st_fit,\"r--\")\n",
    "plt.xlabel('Lat')\n",
    "plt.ylabel('Max Temp')\n",
    "\n",
    "#reflect the equation on the graph:\n",
    "st_line = \"y = \" + str(round(st_slope,2)) + \"x + \" + str(round(st_int,2))\n",
    "plt.annotate(st_line,(-50,95),fontsize=15,color=\"red\")\n",
    "\n",
    "#display the r-value:\n",
    "print(f\"The r-value is: {st_r**2}\")\n",
    "\n",
    "#save .png and display graph:\n",
    "plt.savefig(\"../Output_Data/SouthernLat_Temp.png\")\n",
    "plt.show()"
   ]
  },
  {
   "cell_type": "markdown",
   "metadata": {},
   "source": [
    "Northern Hemisphere - Humidity (%) vs. Latitude Linear Regression"
   ]
  },
  {
   "cell_type": "code",
   "execution_count": null,
   "metadata": {},
   "outputs": [],
   "source": [
    "#calculate the linear regression:\n",
    "nh_slope, nh_int, nh_r, nh_p, nh_std_err = stats.linregress(n_lat, n_hum)\n",
    "\n",
    "# Create equation of line to calculate predicted temperature\n",
    "nh_fit = nh_slope * n_lat + nh_int\n",
    "\n",
    "#plot the scatter plot and regression line:\n",
    "plt.scatter(n_lat,n_hum)\n",
    "plt.plot(n_lat,nh_fit,\"r--\")\n",
    "plt.xlabel('Lat')\n",
    "plt.ylabel('Humidity')\n",
    "\n",
    "#reflect the equation on the graph:\n",
    "nh_line = \"y = \" + str(round(nh_slope,2)) + \"x + \" + str(round(nh_int,2))\n",
    "plt.annotate(nh_line,(45,25),fontsize=15,color=\"red\")\n",
    "\n",
    "#display the r-value:\n",
    "print(f\"The r-value is: {nh_r**2}\")\n",
    "\n",
    "#save .png and display graph:\n",
    "plt.savefig(\"../Output_Data/NorthernHum_Temp.png\")\n",
    "plt.show()"
   ]
  },
  {
   "cell_type": "markdown",
   "metadata": {},
   "source": [
    "Southern Hemisphere - Humidity (%) vs. Latitude Linear Regression"
   ]
  },
  {
   "cell_type": "code",
   "execution_count": null,
   "metadata": {},
   "outputs": [],
   "source": [
    "#calculate the linear regression:\n",
    "sh_slope, sh_int, sh_r, sh_p, sh_std_err = stats.linregress(s_lat, s_hum)\n",
    "\n",
    "# Create equation of line to calculate predicted temperature\n",
    "sh_fit = sh_slope * s_lat + sh_int\n",
    "\n",
    "#plot the scatter plot and regression line:\n",
    "plt.scatter(s_lat,s_hum)\n",
    "plt.plot(s_lat,sh_fit,\"r--\")\n",
    "plt.xlabel('Lat')\n",
    "plt.ylabel('Humidity')\n",
    "\n",
    "#reflect the equation on the graph:\n",
    "sh_line = \"y = \" + str(round(sh_slope,2)) + \"x + \" + str(round(sh_int,2))\n",
    "plt.annotate(sh_line,(-50,20),fontsize=15,color=\"red\")\n",
    "\n",
    "#display the r-value:\n",
    "print(f\"The r-value is: {sh_r**2}\")\n",
    "\n",
    "#save .png and display graph:\n",
    "plt.savefig(\"../Output_Data/SouthernHum_Temp.png\")\n",
    "plt.show()"
   ]
  },
  {
   "cell_type": "markdown",
   "metadata": {},
   "source": [
    "Northern Hemisphere - Cloudiness (%) vs. Latitude Linear Regression"
   ]
  },
  {
   "cell_type": "code",
   "execution_count": null,
   "metadata": {},
   "outputs": [],
   "source": [
    "#calculate the linear regression:\n",
    "nc_slope, nc_int, nc_r, nc_p, nc_std_err = stats.linregress(n_lat, n_cloud)\n",
    "\n",
    "# Create equation of line to calculate predicted temperature\n",
    "nc_fit = nc_slope * n_lat + nc_int\n",
    "\n",
    "#plot the scatter plot and regression line:\n",
    "plt.scatter(n_lat,n_cloud)\n",
    "plt.plot(n_lat,nc_fit,\"r--\")\n",
    "plt.xlabel('Lat')\n",
    "plt.ylabel('Cloudiness')\n",
    "\n",
    "#reflect the equation on the graph:\n",
    "nc_line = \"y = \" + str(round(nc_slope,2)) + \"x + \" + str(round(nc_int,2))\n",
    "plt.annotate(nc_line,(45,25),fontsize=15,color=\"red\")\n",
    "\n",
    "#display the r-value:\n",
    "print(f\"The r-value is: {nc_r**2}\")\n",
    "\n",
    "#save .png and display graph:\n",
    "plt.savefig(\"../Output_Data/NorthernCloud_Temp.png\")\n",
    "plt.show()"
   ]
  },
  {
   "cell_type": "markdown",
   "metadata": {},
   "source": [
    "Southern Hemisphere - Cloudiness (%) vs. Latitude Linear Regression"
   ]
  },
  {
   "cell_type": "code",
   "execution_count": null,
   "metadata": {},
   "outputs": [],
   "source": [
    "#calculate the linear regression:\n",
    "sc_slope, sc_int, sc_r, sc_p, sc_std_err = stats.linregress(s_lat, s_cloud)\n",
    "\n",
    "# Create equation of line to calculate predicted temperature\n",
    "sc_fit = sc_slope * s_lat + sc_int\n",
    "\n",
    "#plot the scatter plot and regression line:\n",
    "plt.scatter(s_lat,s_cloud)\n",
    "plt.plot(s_lat,sc_fit,\"r--\")\n",
    "plt.xlabel('Lat')\n",
    "plt.ylabel('Cloudiness')\n",
    "\n",
    "#reflect the equation on the graph:\n",
    "sc_line = \"y = \" + str(round(sc_slope,2)) + \"x + \" + str(round(sc_int,2))\n",
    "plt.annotate(sc_line,(-50,40),fontsize=15,color=\"red\")\n",
    "\n",
    "#display the r-value:\n",
    "print(f\"The r-value is: {sc_r**2}\")\n",
    "\n",
    "#save .png and display graph:\n",
    "plt.savefig(\"../Output_Data/SouthernCloud_Temp.png\")\n",
    "plt.show()"
   ]
  },
  {
   "cell_type": "markdown",
   "metadata": {},
   "source": [
    "Northern Hemisphere - Wind Speed (mph) vs. Latitude Linear Regression"
   ]
  },
  {
   "cell_type": "code",
   "execution_count": null,
   "metadata": {},
   "outputs": [],
   "source": [
    "#calculate the linear regression:\n",
    "nw_slope, nw_int, nw_r, nw_p, nw_std_err = stats.linregress(n_lat, n_wind)\n",
    "\n",
    "# Create equation of line to calculate predicted temperature\n",
    "nw_fit = nw_slope * n_lat + nw_int\n",
    "\n",
    "#plot the scatter plot and regression line:\n",
    "plt.scatter(n_lat,n_wind)\n",
    "plt.plot(n_lat,nw_fit,\"r--\")\n",
    "plt.xlabel('Lat')\n",
    "plt.ylabel('Wind Speed')\n",
    "\n",
    "#reflect the equation on the graph:\n",
    "nw_line = \"y = \" + str(round(nw_slope,2)) + \"x + \" + str(round(nw_int,2))\n",
    "plt.annotate(nw_line,(45,25),fontsize=15,color=\"red\")\n",
    "\n",
    "#display the r-value:\n",
    "print(f\"The r-value is: {nw_r**2}\")\n",
    "\n",
    "#save .png and display graph:\n",
    "plt.savefig(\"../Output_Data/NorthernWind_Temp.png\")\n",
    "plt.show()"
   ]
  },
  {
   "cell_type": "markdown",
   "metadata": {},
   "source": [
    "Southern Hemisphere - Wind Speed (mph) vs. Latitude Linear Regression"
   ]
  },
  {
   "cell_type": "code",
   "execution_count": null,
   "metadata": {},
   "outputs": [],
   "source": [
    "#calculate the linear regression:\n",
    "sw_slope, sw_int, sw_r, sw_p, sw_std_err = stats.linregress(s_lat, s_wind)\n",
    "\n",
    "# Create equation of line to calculate predicted temperature\n",
    "sw_fit = sw_slope * s_lat + sw_int\n",
    "\n",
    "#plot the scatter plot and regression line:\n",
    "plt.scatter(s_lat,s_wind)\n",
    "plt.plot(s_lat,sw_fit,\"r--\")\n",
    "plt.xlabel('Lat')\n",
    "plt.ylabel('Wind Speed')\n",
    "\n",
    "#reflect the equation on the graph:\n",
    "sw_line = \"y = \" + str(round(sw_slope,2)) + \"x + \" + str(round(sw_int,2))\n",
    "plt.annotate(sw_line,(-50,20),fontsize=15,color=\"red\")\n",
    "\n",
    "#display the r-value:\n",
    "print(f\"The r-value is: {sw_r**2}\")\n",
    "\n",
    "#save .png and display graph:\n",
    "plt.savefig(\"../Output_Data/SouthernWind_Temp.png\")\n",
    "plt.show()"
   ]
  }
 ],
 "metadata": {
  "kernelspec": {
   "display_name": "Python 3",
   "language": "python",
   "name": "python3"
  },
  "language_info": {
   "codemirror_mode": {
    "name": "ipython",
    "version": 3
   },
   "file_extension": ".py",
   "mimetype": "text/x-python",
   "name": "python",
   "nbconvert_exporter": "python",
   "pygments_lexer": "ipython3",
   "version": "3.6.10"
  }
 },
 "nbformat": 4,
 "nbformat_minor": 4
}
